{
 "cells": [
  {
   "cell_type": "code",
   "execution_count": 1,
   "metadata": {},
   "outputs": [],
   "source": [
    "import os"
   ]
  },
  {
   "cell_type": "code",
   "execution_count": null,
   "metadata": {},
   "outputs": [],
   "source": [
    "db_images = {}\n",
    "for txt_file in os.listdir('data/domainnet/image_list copy/'):\n",
    "    with open('data/domainnet/image_list copy/' + txt_file) as f:\n",
    "        db_images[txt_file] = f.readlines()\n",
    "\n",
    "# print the number of images in each domain\n",
    "# for domain, images in db_images.items():\n",
    "#     print(domain, len(images))\n",
    "\n",
    "# Reduce the number of images in each domain (10 %)\n",
    "for domain, images in db_images.items():\n",
    "    db_images[domain] = images[:int(len(images) * 0.1)]\n",
    "\n",
    "# print('After reducing the number of images in each domain by 10%')\n",
    "# print the number of images in each domain\n",
    "# for domain, images in db_images.items():\n",
    "#     print(domain, len(images))\n",
    "\n",
    "# overwrite each txt file with the available images\n",
    "for domain, images in db_images.items():\n",
    "    with open('data/domainnet/image_list/' + domain, 'w') as f:\n",
    "        for image in images:\n",
    "            f.write(image)"
   ]
  },
  {
   "cell_type": "code",
   "execution_count": null,
   "metadata": {},
   "outputs": [],
   "source": [
    "python forkmerge.py data/domainnet -d DomainNet -s c i p q r s -t c -a resnet34 --epochs 5 -i 500 --seed 0 --log logs/DomainNet/forkmerge/c34-5-500"
   ]
  },
  {
   "cell_type": "code",
   "execution_count": 1,
   "metadata": {},
   "outputs": [
    {
     "name": "stdout",
     "output_type": "stream",
     "text": [
      "True\n",
      "0\n",
      "<torch.cuda.device object at 0x000002A454187760>\n",
      "1\n",
      "NVIDIA GeForce RTX 3050 Laptop GPU\n"
     ]
    }
   ],
   "source": [
    "# pytorch gpu test\n",
    "import torch\n",
    "print(torch.cuda.is_available())\n",
    "print(torch.cuda.current_device())\n",
    "print(torch.cuda.device(0))\n",
    "print(torch.cuda.device_count())\n",
    "print(torch.cuda.get_device_name(0))"
   ]
  },
  {
   "cell_type": "code",
   "execution_count": null,
   "metadata": {},
   "outputs": [
    {
     "name": "stderr",
     "output_type": "stream",
     "text": [
      "Python n�o encontrado; execute sem argumentos para instalar na Microsoft Store ou desabilite este atalho a partir de Configura��es > Gerenciar Aliases de Execu��o do Aplicativo.\n"
     ]
    }
   ],
   "source": [
    "!python forkmerge.py data/domainnet -d DomainNet -s c i p q r s -t c -a resnet101 --epochs 20 -i 2500 --seed 0 --log logs/DomainNet/forkmerge/c"
   ]
  },
  {
   "cell_type": "code",
   "execution_count": null,
   "metadata": {},
   "outputs": [
    {
     "name": "stdout",
     "output_type": "stream",
     "text": [
      "True\n"
     ]
    }
   ],
   "source": [
    "python forkmerge2.py data/domainnet -d DomainNet -s c i p q r s -t c -a resnet34 --epochs 20 -i 2500 --seed 0 --log logs/DomainNet/forkmerge/34-2"
   ]
  }
 ],
 "metadata": {
  "kernelspec": {
   "display_name": "Python 3",
   "language": "python",
   "name": "python3"
  },
  "language_info": {
   "codemirror_mode": {
    "name": "ipython",
    "version": 3
   },
   "file_extension": ".py",
   "mimetype": "text/x-python",
   "name": "python",
   "nbconvert_exporter": "python",
   "pygments_lexer": "ipython3",
   "version": "3.8.20"
  }
 },
 "nbformat": 4,
 "nbformat_minor": 2
}
